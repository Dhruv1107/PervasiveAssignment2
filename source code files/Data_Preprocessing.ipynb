{
  "nbformat": 4,
  "nbformat_minor": 0,
  "metadata": {
    "colab": {
      "provenance": [],
      "collapsed_sections": []
    },
    "kernelspec": {
      "name": "python3",
      "display_name": "Python 3"
    },
    "language_info": {
      "name": "python"
    }
  },
  "cells": [
    {
      "cell_type": "code",
      "execution_count": 1,
      "metadata": {
        "id": "HBy5ZR2GycJE"
      },
      "outputs": [],
      "source": [
        "import pandas as pd"
      ]
    },
    {
      "cell_type": "code",
      "source": [],
      "metadata": {
        "id": "qn51pzyID7UB"
      },
      "execution_count": null,
      "outputs": []
    },
    {
      "cell_type": "code",
      "source": [
        "df=pd.read_csv('Dhruv.csv')\n",
        "df.insert(1,'window_number','')\n",
        "df.head()"
      ],
      "metadata": {
        "colab": {
          "base_uri": "https://localhost:8080/",
          "height": 206
        },
        "id": "ikXUyFCT0dB_",
        "outputId": "73733b1e-23c8-4ef6-a97d-04316dc45366"
      },
      "execution_count": 13,
      "outputs": [
        {
          "output_type": "execute_result",
          "data": {
            "text/plain": [
              "   iteration_number window_number  acc_x_vals  acc_y_vals  acc_z_vals  \\\n",
              "0                 1                    -1.225       5.267       8.481   \n",
              "1                 1                    -1.453       4.930       8.380   \n",
              "2                 1                    -1.024       4.877       8.972   \n",
              "3                 1                    -0.689       5.217       7.743   \n",
              "4                 1                    -0.308       5.169       8.406   \n",
              "\n",
              "   gyro_x_vals  gyro_y_vals  gyro_z_vals activity_name      timestamp  \n",
              "0       -0.010       -0.129       -0.064       Sitting  1665778018236  \n",
              "1       -0.046       -0.121        0.000       Sitting  1665778018475  \n",
              "2        0.141       -0.279        0.035       Sitting  1665778018712  \n",
              "3       -0.285        0.007        0.245       Sitting  1665778018951  \n",
              "4       -0.175        0.067        0.227       Sitting  1665778019189  "
            ],
            "text/html": [
              "\n",
              "  <div id=\"df-a9d3f3aa-f921-4480-9b51-25654ae4b80f\">\n",
              "    <div class=\"colab-df-container\">\n",
              "      <div>\n",
              "<style scoped>\n",
              "    .dataframe tbody tr th:only-of-type {\n",
              "        vertical-align: middle;\n",
              "    }\n",
              "\n",
              "    .dataframe tbody tr th {\n",
              "        vertical-align: top;\n",
              "    }\n",
              "\n",
              "    .dataframe thead th {\n",
              "        text-align: right;\n",
              "    }\n",
              "</style>\n",
              "<table border=\"1\" class=\"dataframe\">\n",
              "  <thead>\n",
              "    <tr style=\"text-align: right;\">\n",
              "      <th></th>\n",
              "      <th>iteration_number</th>\n",
              "      <th>window_number</th>\n",
              "      <th>acc_x_vals</th>\n",
              "      <th>acc_y_vals</th>\n",
              "      <th>acc_z_vals</th>\n",
              "      <th>gyro_x_vals</th>\n",
              "      <th>gyro_y_vals</th>\n",
              "      <th>gyro_z_vals</th>\n",
              "      <th>activity_name</th>\n",
              "      <th>timestamp</th>\n",
              "    </tr>\n",
              "  </thead>\n",
              "  <tbody>\n",
              "    <tr>\n",
              "      <th>0</th>\n",
              "      <td>1</td>\n",
              "      <td></td>\n",
              "      <td>-1.225</td>\n",
              "      <td>5.267</td>\n",
              "      <td>8.481</td>\n",
              "      <td>-0.010</td>\n",
              "      <td>-0.129</td>\n",
              "      <td>-0.064</td>\n",
              "      <td>Sitting</td>\n",
              "      <td>1665778018236</td>\n",
              "    </tr>\n",
              "    <tr>\n",
              "      <th>1</th>\n",
              "      <td>1</td>\n",
              "      <td></td>\n",
              "      <td>-1.453</td>\n",
              "      <td>4.930</td>\n",
              "      <td>8.380</td>\n",
              "      <td>-0.046</td>\n",
              "      <td>-0.121</td>\n",
              "      <td>0.000</td>\n",
              "      <td>Sitting</td>\n",
              "      <td>1665778018475</td>\n",
              "    </tr>\n",
              "    <tr>\n",
              "      <th>2</th>\n",
              "      <td>1</td>\n",
              "      <td></td>\n",
              "      <td>-1.024</td>\n",
              "      <td>4.877</td>\n",
              "      <td>8.972</td>\n",
              "      <td>0.141</td>\n",
              "      <td>-0.279</td>\n",
              "      <td>0.035</td>\n",
              "      <td>Sitting</td>\n",
              "      <td>1665778018712</td>\n",
              "    </tr>\n",
              "    <tr>\n",
              "      <th>3</th>\n",
              "      <td>1</td>\n",
              "      <td></td>\n",
              "      <td>-0.689</td>\n",
              "      <td>5.217</td>\n",
              "      <td>7.743</td>\n",
              "      <td>-0.285</td>\n",
              "      <td>0.007</td>\n",
              "      <td>0.245</td>\n",
              "      <td>Sitting</td>\n",
              "      <td>1665778018951</td>\n",
              "    </tr>\n",
              "    <tr>\n",
              "      <th>4</th>\n",
              "      <td>1</td>\n",
              "      <td></td>\n",
              "      <td>-0.308</td>\n",
              "      <td>5.169</td>\n",
              "      <td>8.406</td>\n",
              "      <td>-0.175</td>\n",
              "      <td>0.067</td>\n",
              "      <td>0.227</td>\n",
              "      <td>Sitting</td>\n",
              "      <td>1665778019189</td>\n",
              "    </tr>\n",
              "  </tbody>\n",
              "</table>\n",
              "</div>\n",
              "      <button class=\"colab-df-convert\" onclick=\"convertToInteractive('df-a9d3f3aa-f921-4480-9b51-25654ae4b80f')\"\n",
              "              title=\"Convert this dataframe to an interactive table.\"\n",
              "              style=\"display:none;\">\n",
              "        \n",
              "  <svg xmlns=\"http://www.w3.org/2000/svg\" height=\"24px\"viewBox=\"0 0 24 24\"\n",
              "       width=\"24px\">\n",
              "    <path d=\"M0 0h24v24H0V0z\" fill=\"none\"/>\n",
              "    <path d=\"M18.56 5.44l.94 2.06.94-2.06 2.06-.94-2.06-.94-.94-2.06-.94 2.06-2.06.94zm-11 1L8.5 8.5l.94-2.06 2.06-.94-2.06-.94L8.5 2.5l-.94 2.06-2.06.94zm10 10l.94 2.06.94-2.06 2.06-.94-2.06-.94-.94-2.06-.94 2.06-2.06.94z\"/><path d=\"M17.41 7.96l-1.37-1.37c-.4-.4-.92-.59-1.43-.59-.52 0-1.04.2-1.43.59L10.3 9.45l-7.72 7.72c-.78.78-.78 2.05 0 2.83L4 21.41c.39.39.9.59 1.41.59.51 0 1.02-.2 1.41-.59l7.78-7.78 2.81-2.81c.8-.78.8-2.07 0-2.86zM5.41 20L4 18.59l7.72-7.72 1.47 1.35L5.41 20z\"/>\n",
              "  </svg>\n",
              "      </button>\n",
              "      \n",
              "  <style>\n",
              "    .colab-df-container {\n",
              "      display:flex;\n",
              "      flex-wrap:wrap;\n",
              "      gap: 12px;\n",
              "    }\n",
              "\n",
              "    .colab-df-convert {\n",
              "      background-color: #E8F0FE;\n",
              "      border: none;\n",
              "      border-radius: 50%;\n",
              "      cursor: pointer;\n",
              "      display: none;\n",
              "      fill: #1967D2;\n",
              "      height: 32px;\n",
              "      padding: 0 0 0 0;\n",
              "      width: 32px;\n",
              "    }\n",
              "\n",
              "    .colab-df-convert:hover {\n",
              "      background-color: #E2EBFA;\n",
              "      box-shadow: 0px 1px 2px rgba(60, 64, 67, 0.3), 0px 1px 3px 1px rgba(60, 64, 67, 0.15);\n",
              "      fill: #174EA6;\n",
              "    }\n",
              "\n",
              "    [theme=dark] .colab-df-convert {\n",
              "      background-color: #3B4455;\n",
              "      fill: #D2E3FC;\n",
              "    }\n",
              "\n",
              "    [theme=dark] .colab-df-convert:hover {\n",
              "      background-color: #434B5C;\n",
              "      box-shadow: 0px 1px 3px 1px rgba(0, 0, 0, 0.15);\n",
              "      filter: drop-shadow(0px 1px 2px rgba(0, 0, 0, 0.3));\n",
              "      fill: #FFFFFF;\n",
              "    }\n",
              "  </style>\n",
              "\n",
              "      <script>\n",
              "        const buttonEl =\n",
              "          document.querySelector('#df-a9d3f3aa-f921-4480-9b51-25654ae4b80f button.colab-df-convert');\n",
              "        buttonEl.style.display =\n",
              "          google.colab.kernel.accessAllowed ? 'block' : 'none';\n",
              "\n",
              "        async function convertToInteractive(key) {\n",
              "          const element = document.querySelector('#df-a9d3f3aa-f921-4480-9b51-25654ae4b80f');\n",
              "          const dataTable =\n",
              "            await google.colab.kernel.invokeFunction('convertToInteractive',\n",
              "                                                     [key], {});\n",
              "          if (!dataTable) return;\n",
              "\n",
              "          const docLinkHtml = 'Like what you see? Visit the ' +\n",
              "            '<a target=\"_blank\" href=https://colab.research.google.com/notebooks/data_table.ipynb>data table notebook</a>'\n",
              "            + ' to learn more about interactive tables.';\n",
              "          element.innerHTML = '';\n",
              "          dataTable['output_type'] = 'display_data';\n",
              "          await google.colab.output.renderOutput(dataTable, element);\n",
              "          const docLink = document.createElement('div');\n",
              "          docLink.innerHTML = docLinkHtml;\n",
              "          element.appendChild(docLink);\n",
              "        }\n",
              "      </script>\n",
              "    </div>\n",
              "  </div>\n",
              "  "
            ]
          },
          "metadata": {},
          "execution_count": 13
        }
      ]
    },
    {
      "cell_type": "code",
      "source": [
        "df.iloc[0].activity_name"
      ],
      "metadata": {
        "colab": {
          "base_uri": "https://localhost:8080/",
          "height": 35
        },
        "id": "tW-7aRSO0qIY",
        "outputId": "0acc39d6-8bdb-48b5-b64c-cabcbb769d60"
      },
      "execution_count": 14,
      "outputs": [
        {
          "output_type": "execute_result",
          "data": {
            "text/plain": [
              "'Sitting'"
            ],
            "application/vnd.google.colaboratory.intrinsic+json": {
              "type": "string"
            }
          },
          "metadata": {},
          "execution_count": 14
        }
      ]
    },
    {
      "cell_type": "code",
      "source": [
        "\n",
        "\n",
        "def segment(df):\n",
        "  segmented=pd.DataFrame(columns=df.columns)\n",
        "  i=0\n",
        "  window=0\n",
        "  last='Sitting'\n",
        "  while(i<945):\n",
        "    cur=i\n",
        "\n",
        "    a=df.iloc[cur].activity_name\n",
        "    t=df.iloc[cur].timestamp+2000\n",
        "    acc_x=[]\n",
        "    acc_y=[]\n",
        "    acc_z=[]\n",
        "    gyro_x=[]\n",
        "    gyro_y=[]\n",
        "    gyro_z=[]\n",
        "    if last!=df.iloc[cur].activity_name:\n",
        "      window=0\n",
        "    \n",
        "    while(i<945 and df.iloc[i].activity_name==a and df.iloc[i].timestamp<t):\n",
        "      acc_x.append(df.iloc[i].acc_x_vals)\n",
        "      acc_y.append(df.iloc[i].acc_y_vals)\n",
        "      acc_z.append(df.iloc[i].acc_z_vals)\n",
        "      gyro_x.append(df.iloc[i].gyro_x_vals)\n",
        "      gyro_y.append(df.iloc[i].gyro_y_vals)\n",
        "      gyro_z.append(df.iloc[i].gyro_z_vals)\n",
        "      i+=1\n",
        "    last=df.iloc[cur].activity_name\n",
        "    window+=1\n",
        "    #print(df.iloc[cur].timestamp,df.iloc[cur].ExactDate)\n",
        "    segmented = segmented.append({'iteration_number' : df.iloc[cur].iteration_number ,'window_number' :window, 'acc_x_vals' : acc_x, 'acc_y_vals' : acc_y, 'acc_z_vals' : acc_z, 'gyro_x_vals': gyro_x, 'gyro_y_vals': gyro_y, 'gyro_z_vals': gyro_z, 'activity_name': df.iloc[cur].activity_name, 'timestamp': df.iloc[cur].timestamp },\n",
        "        ignore_index = True)\n",
        "  return segmented"
      ],
      "metadata": {
        "id": "38i58N-z2IW3"
      },
      "execution_count": 14,
      "outputs": []
    },
    {
      "cell_type": "code",
      "source": [
        "\n",
        "segment(df).to_csv('dataset.csv',index=False)\n"
      ],
      "metadata": {
        "id": "Axs_VH1G5rsv"
      },
      "execution_count": 15,
      "outputs": []
    },
    {
      "cell_type": "code",
      "source": [],
      "metadata": {
        "id": "JZI4bX2h5vgd"
      },
      "execution_count": null,
      "outputs": []
    }
  ]
}